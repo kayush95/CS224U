{
 "cells": [
  {
   "cell_type": "markdown",
   "metadata": {},
   "source": [
    "# Homework and bake-off: pragmatic color descriptions"
   ]
  },
  {
   "cell_type": "code",
   "execution_count": 1,
   "metadata": {},
   "outputs": [],
   "source": [
    "__author__ = \"Christopher Potts\"\n",
    "__version__ = \"CS224u, Stanford, Spring 2020\""
   ]
  },
  {
   "cell_type": "markdown",
   "metadata": {},
   "source": [
    "## Contents\n",
    "\n",
    "1. [Overview](#Overview)\n",
    "1. [Set-up](#Set-up)\n",
    "1. [All two-word examples as a dev corpus](#All-two-word-examples-as-a-dev-corpus)\n",
    "1. [Dev dataset](#Dev-dataset)\n",
    "1. [Random train–test split for development](#Random-train–test-split-for-development)\n",
    "1. [Question 1: Improve the tokenizer [1 point]](#Question-1:-Improve-the-tokenizer-[1-point])\n",
    "1. [Use the tokenizer](#Use-the-tokenizer)\n",
    "1. [Question 2: Improve the color representations [1 point]](#Question-2:-Improve-the-color-representations-[1-point])\n",
    "1. [Use the color representer](#Use-the-color-representer)\n",
    "1. [Initial model](#Initial-model)\n",
    "1. [Question 3: GloVe embeddings [1 points]](#Question-3:-GloVe-embeddings-[1-points])\n",
    "1. [Try the GloVe representations](#Try-the-GloVe-representations)\n",
    "1. [Question 4: Color context [3 points]](#Question-4:-Color-context-[3-points])\n",
    "1. [Your original system [3 points]](#Your-original-system-[3-points])\n",
    "1. [Bakeoff [1 point]](#Bakeoff-[1-point])"
   ]
  },
  {
   "cell_type": "markdown",
   "metadata": {},
   "source": [
    "## Overview\n",
    "\n",
    "This homework and associated bake-off are oriented toward building an effective system for generating color descriptions that are pragmatic in the sense that they would help a reader/listener figure out which color was being referred to in a shared context consisting of a target color (whose identity is known only to the describer/speaker) and a set of distractors.\n",
    "\n",
    "The notebook [colors_overview.ipynb](colors_overview.ipynb) should be studied before work on this homework begins. That notebook provides backgroud on the task, the dataset, and the modeling code that you will be using and adapting.\n",
    "\n",
    "The homework questions are more open-ended than previous ones have been. Rather than asking you to implement pre-defined functionality, they ask you to try to improve baseline components of the full system in ways that you find to be effective. As usual, this culiminates in a prompt asking you to develop a novel system for entry into the bake-off. In this case, though, the work you do for the homework will likely be directly incorporated into that system."
   ]
  },
  {
   "cell_type": "markdown",
   "metadata": {},
   "source": [
    "## Set-up"
   ]
  },
  {
   "cell_type": "markdown",
   "metadata": {},
   "source": [
    "See [colors_overview.ipynb](colors_overview.ipynb) for set-up in instructions and other background details."
   ]
  },
  {
   "cell_type": "code",
   "execution_count": 2,
   "metadata": {},
   "outputs": [],
   "source": [
    "from colors import ColorsCorpusReader\n",
    "import os\n",
    "from sklearn.model_selection import train_test_split\n",
    "from torch_color_describer import (\n",
    "    ContextualColorDescriber, create_example_dataset)\n",
    "import utils\n",
    "from utils import START_SYMBOL, END_SYMBOL, UNK_SYMBOL"
   ]
  },
  {
   "cell_type": "code",
   "execution_count": 3,
   "metadata": {},
   "outputs": [],
   "source": [
    "utils.fix_random_seeds()"
   ]
  },
  {
   "cell_type": "code",
   "execution_count": 4,
   "metadata": {},
   "outputs": [],
   "source": [
    "COLORS_SRC_FILENAME = os.path.join(\n",
    "    \"data\", \"colors\", \"filteredCorpus.csv\")"
   ]
  },
  {
   "cell_type": "markdown",
   "metadata": {},
   "source": [
    "## All two-word examples as a dev corpus\n",
    "\n",
    "So that you don't have to sit through excessively long training runs during development, I suggest working with the two-word-only subset of the corpus until you enter into the late stages of system testing."
   ]
  },
  {
   "cell_type": "code",
   "execution_count": 5,
   "metadata": {},
   "outputs": [],
   "source": [
    "dev_corpus = ColorsCorpusReader(\n",
    "    COLORS_SRC_FILENAME, \n",
    "    word_count=2, \n",
    "    normalize_colors=True)"
   ]
  },
  {
   "cell_type": "code",
   "execution_count": 6,
   "metadata": {},
   "outputs": [],
   "source": [
    "dev_examples = list(dev_corpus.read())"
   ]
  },
  {
   "cell_type": "markdown",
   "metadata": {},
   "source": [
    "This subset has about one-third the examples of the full corpus:"
   ]
  },
  {
   "cell_type": "code",
   "execution_count": 7,
   "metadata": {},
   "outputs": [
    {
     "data": {
      "text/plain": [
       "13890"
      ]
     },
     "execution_count": 7,
     "metadata": {},
     "output_type": "execute_result"
    }
   ],
   "source": [
    "len(dev_examples)"
   ]
  },
  {
   "cell_type": "markdown",
   "metadata": {},
   "source": [
    "We __should__ worry that it's not a fully representative sample. Most of the descriptions in the full corpus are shorter, and a large proportion are longer. So this dataset is mainly for debugging, development, and general hill-climbing. All findings should be validated on the full dataset at some point."
   ]
  },
  {
   "cell_type": "markdown",
   "metadata": {},
   "source": [
    "## Dev dataset\n",
    "\n",
    "The first step is to extract the raw color and raw texts from the corpus:"
   ]
  },
  {
   "cell_type": "code",
   "execution_count": 8,
   "metadata": {},
   "outputs": [],
   "source": [
    "dev_rawcols, dev_texts = zip(*[[ex.colors, ex.contents] for ex in dev_examples])"
   ]
  },
  {
   "cell_type": "markdown",
   "metadata": {},
   "source": [
    "The raw color representations are suitable inputs to a model, but the texts are just strings, so they can't really be processed as-is. Question 1 asks you to do some tokenizing!"
   ]
  },
  {
   "cell_type": "markdown",
   "metadata": {},
   "source": [
    "## Random train–test split for development\n",
    "\n",
    "For the sake of development runs, we create a random train–test split:"
   ]
  },
  {
   "cell_type": "code",
   "execution_count": 9,
   "metadata": {},
   "outputs": [],
   "source": [
    "dev_rawcols_train, dev_rawcols_test, dev_texts_train, dev_texts_test = \\\n",
    "    train_test_split(dev_rawcols, dev_texts)"
   ]
  },
  {
   "cell_type": "markdown",
   "metadata": {},
   "source": [
    "## Question 1: Improve the tokenizer [1 point]\n",
    "\n",
    "This is the first required question – the first required modification to the default pipeline.\n",
    "\n",
    "The function `tokenize_example` simply splits its string on whitespace and adds the required start and end symbols:"
   ]
  },
  {
   "cell_type": "code",
   "execution_count": 10,
   "metadata": {},
   "outputs": [],
   "source": [
    "from nltk.tokenize import TreebankWordTokenizer\n",
    "'''\n",
    "An inspection of the words in the contexts reveals the following properties:\n",
    "1. There are quite many spelling mistakes as is common in a chat like environment\n",
    "2. There is extensive use of comparatives and superlatives\n",
    "3. There are a lot of short forms used\n",
    "\n",
    "Based on these observations, a word tokenizer does not make sense. Hence we use a pretrained wordpiece tokenizer\n",
    "'''\n",
    "\n",
    "from transformers import BertTokenizer\n",
    "bert_tokenizer = BertTokenizer.from_pretrained('bert-base-uncased')\n",
    "\n",
    "def tokenize_example(s):\n",
    "    return [START_SYMBOL] + bert_tokenizer.tokenize(s) + [END_SYMBOL]"
   ]
  },
  {
   "cell_type": "code",
   "execution_count": 11,
   "metadata": {},
   "outputs": [
    {
     "data": {
      "text/plain": [
       "['<s>', 'aqua', ',', 'tea', '##l', '</s>']"
      ]
     },
     "execution_count": 11,
     "metadata": {},
     "output_type": "execute_result"
    }
   ],
   "source": [
    "tokenize_example(dev_texts_train[376])"
   ]
  },
  {
   "cell_type": "markdown",
   "metadata": {},
   "source": [
    "__Your task__: Modify `tokenize_example` so that it does something more sophisticated with the input text. \n",
    "\n",
    "__Notes__:\n",
    "\n",
    "* There are useful ideas for this in [Monroe et al. 2017](https://transacl.org/ojs/index.php/tacl/article/view/1142)\n",
    "* There is no requirement that you do word-level tokenization. Sub-word and multi-word are options.\n",
    "* This question can interact with the size of your vocabulary (see just below), and in turn with decisions about how to use `UNK_SYMBOL`.\n",
    "\n",
    "__Important__: don't forget to add the start and end symbols, else the resulting models will definitely be terrible!"
   ]
  },
  {
   "cell_type": "markdown",
   "metadata": {},
   "source": [
    "## Use the tokenizer"
   ]
  },
  {
   "cell_type": "markdown",
   "metadata": {},
   "source": [
    "Once the tokenizer is working, run the following cell to tokenize your inputs:"
   ]
  },
  {
   "cell_type": "code",
   "execution_count": 12,
   "metadata": {},
   "outputs": [],
   "source": [
    "dev_seqs_train = [tokenize_example(s) for s in dev_texts_train]\n",
    "\n",
    "dev_seqs_test = [tokenize_example(s) for s in dev_texts_test]"
   ]
  },
  {
   "cell_type": "markdown",
   "metadata": {},
   "source": [
    "We use only the train set to derive a vocabulary for the model:"
   ]
  },
  {
   "cell_type": "code",
   "execution_count": 13,
   "metadata": {},
   "outputs": [],
   "source": [
    "dev_vocab = sorted({w for toks in dev_seqs_train for w in toks}) + [UNK_SYMBOL]"
   ]
  },
  {
   "cell_type": "markdown",
   "metadata": {},
   "source": [
    "It's important that the `UNK_SYMBOL` is included somewhere in this list. Test examples with word not seen in training will be mapped to `UNK_SYMBOL`. If you model's vocab is the same as your train vocab, then `UNK_SYMBOL` will never be encountered during training, so it will be a random vector at test time."
   ]
  },
  {
   "cell_type": "code",
   "execution_count": 14,
   "metadata": {},
   "outputs": [
    {
     "data": {
      "text/plain": [
       "963"
      ]
     },
     "execution_count": 14,
     "metadata": {},
     "output_type": "execute_result"
    }
   ],
   "source": [
    "len(dev_vocab)"
   ]
  },
  {
   "cell_type": "markdown",
   "metadata": {},
   "source": [
    "## Question 2: Improve the color representations [1 point]\n",
    "\n",
    "This is the second required pipeline improvement for the assignment. \n",
    "\n",
    "The following functions do nothing at all to the raw input colors we get from the corpus. "
   ]
  },
  {
   "cell_type": "code",
   "execution_count": 15,
   "metadata": {},
   "outputs": [],
   "source": [
    "import numpy as np\n",
    "def represent_color_context(colors):\n",
    "    \n",
    "    # Improve me!\n",
    "    '''\n",
    "    use the differenc between the target and distractors\n",
    "    '''\n",
    "    colors = np.array(colors)\n",
    "    target_color = colors[-1]\n",
    "    \n",
    "    colors = [target_color - colors[0], target_color- colors[1], target_color]\n",
    "    return [represent_color(color) for color in colors]\n",
    "\n",
    "\n",
    "def represent_color(color):\n",
    "\n",
    "    # Improve me!\n",
    "    '''\n",
    "    Use fft transform of the color as in Monroe\n",
    "    '''\n",
    "    h, s, v = color\n",
    "    color_ft = []\n",
    "    for j in range(3):\n",
    "        for k in range(3):\n",
    "            for l in range(3):\n",
    "                color_ft.append(np.exp(-2j * np.pi * (j * h + k*s/2 + l*v/2)))\n",
    "    color = np.concatenate([np.real(color_ft), np.imag(color_ft)])\n",
    "    \n",
    "    return color"
   ]
  },
  {
   "cell_type": "code",
   "execution_count": 16,
   "metadata": {},
   "outputs": [
    {
     "data": {
      "text/plain": [
       "[array([ 1.        , -0.36812455, -0.72896863,  1.        , -0.36812455,\n",
       "        -0.72896863,  1.        , -0.36812455, -0.72896863,  0.88294759,\n",
       "        -0.76153831, -0.3222657 ,  0.88294759, -0.76153831, -0.3222657 ,\n",
       "         0.88294759, -0.76153831, -0.3222657 ,  0.5591929 , -0.97667228,\n",
       "         0.15988119,  0.5591929 , -0.97667228,  0.15988119,  0.5591929 ,\n",
       "        -0.97667228,  0.15988119,  0.        , -0.92977649,  0.68454711,\n",
       "         0.        , -0.92977649,  0.68454711,  0.        , -0.92977649,\n",
       "         0.68454711, -0.46947156, -0.6481199 ,  0.94664926, -0.46947156,\n",
       "        -0.6481199 ,  0.94664926, -0.46947156, -0.6481199 ,  0.94664926,\n",
       "        -0.82903757, -0.21473533,  0.98713627, -0.82903757, -0.21473533,\n",
       "         0.98713627, -0.82903757, -0.21473533,  0.98713627]),\n",
       " array([ 1.        ,  0.12533323, -0.96858316,  1.        ,  0.12533323,\n",
       "        -0.96858316,  1.        ,  0.12533323, -0.96858316, -0.98768834,\n",
       "         0.03141076,  0.99556196, -0.98768834,  0.03141076,  0.99556196,\n",
       "        -0.98768834,  0.03141076,  0.99556196,  0.95105652, -0.18738131,\n",
       "        -0.99802673,  0.95105652, -0.18738131, -0.99802673,  0.95105652,\n",
       "        -0.18738131, -0.99802673,  0.        , -0.9921147 , -0.24868989,\n",
       "         0.        , -0.9921147 , -0.24868989,  0.        , -0.9921147 ,\n",
       "        -0.24868989,  0.15643447,  0.99950656,  0.09410831,  0.15643447,\n",
       "         0.99950656,  0.09410831,  0.15643447,  0.99950656,  0.09410831,\n",
       "        -0.30901699, -0.98228725,  0.06279052, -0.30901699, -0.98228725,\n",
       "         0.06279052, -0.30901699, -0.98228725,  0.06279052]),\n",
       " array([ 1.00000000e+00, -6.61311865e-01, -1.25333234e-01,  6.12323400e-17,\n",
       "        -7.50111070e-01,  9.92114701e-01, -1.00000000e+00,  6.61311865e-01,\n",
       "         1.25333234e-01, -1.39173101e-01, -6.50774217e-01,  9.99902524e-01,\n",
       "        -9.90268069e-01,  7.59271307e-01, -1.39621803e-02,  1.39173101e-01,\n",
       "         6.50774217e-01, -9.99902524e-01, -9.61261696e-01,  8.42452397e-01,\n",
       "        -1.52985836e-01,  2.75637356e-01,  5.38770785e-01, -9.88228381e-01,\n",
       "         9.61261696e-01, -8.42452397e-01,  1.52985836e-01,  0.00000000e+00,\n",
       "        -7.50111070e-01,  9.92114701e-01, -1.00000000e+00,  6.61311865e-01,\n",
       "         1.25333234e-01, -1.22464680e-16,  7.50111070e-01, -9.92114701e-01,\n",
       "        -9.90268069e-01,  7.59271307e-01, -1.39621803e-02,  1.39173101e-01,\n",
       "         6.50774217e-01, -9.99902524e-01,  9.90268069e-01, -7.59271307e-01,\n",
       "         1.39621803e-02,  2.75637356e-01,  5.38770785e-01, -9.88228381e-01,\n",
       "         9.61261696e-01, -8.42452397e-01,  1.52985836e-01, -2.75637356e-01,\n",
       "        -5.38770785e-01,  9.88228381e-01])]"
      ]
     },
     "execution_count": 16,
     "metadata": {},
     "output_type": "execute_result"
    }
   ],
   "source": [
    "represent_color_context(dev_rawcols_train[0])"
   ]
  },
  {
   "cell_type": "markdown",
   "metadata": {},
   "source": [
    "__Your task__: Modify `represent_color_context` and/or `represent_color` to represent colors in a new way.\n",
    "    \n",
    "__Notes__:\n",
    "\n",
    "* The Fourier-transform method of [Monroe et al. 2017](https://transacl.org/ojs/index.php/tacl/article/view/1142) is a proven choice.\n",
    "* You are not required to keep `represent_color`. This might be unnatural if you want to perform an operation on each color trio all at once.\n",
    "* For that matter, if you want to process all of the color contexts in the entire data set all at once, that is fine too, as long as you can also perform the operation at test time with an unknown number of examples being tested."
   ]
  },
  {
   "cell_type": "markdown",
   "metadata": {},
   "source": [
    "## Use the color representer"
   ]
  },
  {
   "cell_type": "markdown",
   "metadata": {},
   "source": [
    "The following cell just runs your `represent_color_context` on the train and test sets:"
   ]
  },
  {
   "cell_type": "code",
   "execution_count": 17,
   "metadata": {},
   "outputs": [],
   "source": [
    "dev_cols_train = [represent_color_context(colors) for colors in dev_rawcols_train]\n",
    "\n",
    "dev_cols_test = [represent_color_context(colors) for colors in dev_rawcols_test]"
   ]
  },
  {
   "cell_type": "markdown",
   "metadata": {},
   "source": [
    "At this point, our preprocessing steps are complete, and we can fit a first model."
   ]
  },
  {
   "cell_type": "markdown",
   "metadata": {},
   "source": [
    "## Initial model\n",
    "\n",
    "The first model is configured right now to be a small model run for just a few iterations. It should be enough to get traction, but it's unlikely to be a great model. You are free to modify this configuration if you wish; it is here just for demonstration and testing:"
   ]
  },
  {
   "cell_type": "code",
   "execution_count": 45,
   "metadata": {},
   "outputs": [],
   "source": [
    "dev_mod = ContextualColorDescriber(\n",
    "    dev_vocab, \n",
    "    embed_dim=10, \n",
    "    hidden_dim=10, \n",
    "    max_iter=5, \n",
    "    batch_size=128)"
   ]
  },
  {
   "cell_type": "code",
   "execution_count": 46,
   "metadata": {},
   "outputs": [
    {
     "name": "stderr",
     "output_type": "stream",
     "text": [
      "Epoch 5; err = 120.32878661155702"
     ]
    }
   ],
   "source": [
    "_ = dev_mod.fit(dev_cols_train, dev_seqs_train)"
   ]
  },
  {
   "cell_type": "markdown",
   "metadata": {},
   "source": [
    "As discussed in [colors_overview.ipynb](colors_overview.ipynb), our primary metric is `listener_accuracy`:"
   ]
  },
  {
   "cell_type": "code",
   "execution_count": 47,
   "metadata": {},
   "outputs": [
    {
     "data": {
      "text/plain": [
       "0.7975813417794414"
      ]
     },
     "execution_count": 47,
     "metadata": {},
     "output_type": "execute_result"
    }
   ],
   "source": [
    "dev_mod.listener_accuracy(dev_cols_test, dev_seqs_test)"
   ]
  },
  {
   "cell_type": "markdown",
   "metadata": {},
   "source": [
    "We can also see the model's predicted sequences given color context inputs:"
   ]
  },
  {
   "cell_type": "code",
   "execution_count": 21,
   "metadata": {},
   "outputs": [
    {
     "data": {
      "text/plain": [
       "[['<s>', 'yellow', 'green', '</s>'],\n",
       " ['<s>', 'purple', 'purple', '</s>'],\n",
       " ['<s>', 'bright', 'pink', '</s>'],\n",
       " ['<s>', 'bright', 'green', '</s>'],\n",
       " ['<s>', 'bright', 'pink', '</s>'],\n",
       " ['<s>', 'purple', 'purple', '</s>'],\n",
       " ['<s>', 'purple', 'purple', '</s>'],\n",
       " ['<s>', 'bright', 'purple', '</s>'],\n",
       " ['<s>', 'purple', 'purple', '</s>']]"
      ]
     },
     "execution_count": 21,
     "metadata": {},
     "output_type": "execute_result"
    }
   ],
   "source": [
    "dev_mod.predict(dev_cols_test[1:10])"
   ]
  },
  {
   "cell_type": "code",
   "execution_count": 22,
   "metadata": {},
   "outputs": [
    {
     "data": {
      "text/plain": [
       "[['<s>', 'darker', 'yellow', '</s>'],\n",
       " ['<s>', 'dull', 'one', '</s>'],\n",
       " ['<s>', 'light', 'pink', '</s>'],\n",
       " ['<s>', 'like', 'mint', '</s>'],\n",
       " ['<s>', 'bright', 'pink', '.', '</s>'],\n",
       " ['<s>', 'dull', '##er', 'purple', '</s>'],\n",
       " ['<s>', 'dull', 'purple', '</s>'],\n",
       " ['<s>', 'bright', 'purple', '</s>'],\n",
       " ['<s>', 'brighter', 'purple', '</s>']]"
      ]
     },
     "execution_count": 22,
     "metadata": {},
     "output_type": "execute_result"
    }
   ],
   "source": [
    "dev_seqs_test[1:10]"
   ]
  },
  {
   "cell_type": "code",
   "execution_count": 25,
   "metadata": {},
   "outputs": [
    {
     "name": "stderr",
     "output_type": "stream",
     "text": [
      "Epoch 5; err = 95.718495488166814"
     ]
    },
    {
     "name": "stdout",
     "output_type": "stream",
     "text": [
      "Best params: {'hidden_dim': 64, 'max_iter': 5}\n",
      "Best score: 0.827\n"
     ]
    }
   ],
   "source": [
    "dev_mod = ContextualColorDescriber(\n",
    "    dev_vocab, \n",
    "    embed_dim=10, \n",
    "    hidden_dim=10, \n",
    "    max_iter=5, \n",
    "    batch_size=128)\n",
    "\n",
    "best_mod = utils.fit_classifier_with_crossvalidation(\n",
    "    dev_cols_train, \n",
    "    dev_seqs_train, \n",
    "    dev_mod, \n",
    "    cv=2,\n",
    "    scoring=None,\n",
    "    param_grid={'hidden_dim': [10, 20, 64, 128], \"max_iter\": [5, 10]})"
   ]
  },
  {
   "cell_type": "code",
   "execution_count": 48,
   "metadata": {},
   "outputs": [
    {
     "data": {
      "text/plain": [
       "0.835588828102505"
      ]
     },
     "execution_count": 48,
     "metadata": {},
     "output_type": "execute_result"
    }
   ],
   "source": [
    "best_mod.listener_accuracy(dev_cols_test, dev_seqs_test)"
   ]
  },
  {
   "cell_type": "code",
   "execution_count": 27,
   "metadata": {},
   "outputs": [
    {
     "data": {
      "text/plain": [
       "[['<s>', 'dull', 'green', '</s>'],\n",
       " ['<s>', 'dull', 'pink', '</s>'],\n",
       " ['<s>', 'hot', 'pink', '</s>'],\n",
       " ['<s>', 'mint', 'green', '</s>'],\n",
       " ['<s>', 'hot', 'pink', '</s>'],\n",
       " ['<s>', 'dark', 'purple', '</s>'],\n",
       " ['<s>', 'dark', 'purple', '</s>'],\n",
       " ['<s>', 'bright', 'purple', '</s>'],\n",
       " ['<s>', 'bright', 'purple', '</s>']]"
      ]
     },
     "execution_count": 27,
     "metadata": {},
     "output_type": "execute_result"
    }
   ],
   "source": [
    "best_mod.predict(dev_cols_test[1:10])"
   ]
  },
  {
   "cell_type": "markdown",
   "metadata": {},
   "source": [
    "## Question 3: GloVe embeddings [1 points]\n",
    "\n",
    "The above model uses a random initial embedding, as configured by the decoder used by `ContextualColorDescriber`. This homework question asks you to consider using GloVe inputs. \n",
    "\n",
    "__Your task__: Complete `create_glove_embedding` so that it creates a GloVe embedding based on your model vocabulary. This isn't mean to be analytically challenging, but rather just to create a basis for you to try out other kinds of rich initialization."
   ]
  },
  {
   "cell_type": "code",
   "execution_count": 49,
   "metadata": {},
   "outputs": [],
   "source": [
    "GLOVE_HOME = os.path.join('data', 'glove.6B')"
   ]
  },
  {
   "cell_type": "code",
   "execution_count": 50,
   "metadata": {},
   "outputs": [],
   "source": [
    "def create_glove_embedding(vocab, glove_base_filename='glove.6B.50d.txt'):\n",
    "    \n",
    "    # Use `utils.glove2dict` to read in the GloVe file:    \n",
    "    ##### YOUR CODE HERE\n",
    "    glove_src = os.path.join(GLOVE_HOME, glove_base_filename)\n",
    "    GLOVE = utils.glove2dict(glove_src)\n",
    "    \n",
    "    # Use `utils.create_pretrained_embedding` to create the embedding.\n",
    "    # This function will, by default, ensure that START_TOKEN, \n",
    "    # END_TOKEN, and UNK_TOKEN are included in the embedding.\n",
    "    ##### YOUR CODE HERE\n",
    "    embedding, vocab = utils.create_pretrained_embedding(GLOVE, vocab)\n",
    "\n",
    "    \n",
    "    # Be sure to return the embedding you create as well as the\n",
    "    # vocabulary returned by `utils.create_pretrained_embedding`,\n",
    "    # which is likely to have been modified from the input `vocab`.\n",
    "    \n",
    "    ##### YOUR CODE HERE\n",
    "\n",
    "    return embedding, vocab"
   ]
  },
  {
   "cell_type": "markdown",
   "metadata": {},
   "source": [
    "## Try the GloVe representations"
   ]
  },
  {
   "cell_type": "markdown",
   "metadata": {},
   "source": [
    "Let's see if GloVe helped for our development data:"
   ]
  },
  {
   "cell_type": "code",
   "execution_count": 51,
   "metadata": {},
   "outputs": [],
   "source": [
    "dev_glove_embedding, dev_glove_vocab = create_glove_embedding(dev_vocab)"
   ]
  },
  {
   "cell_type": "markdown",
   "metadata": {},
   "source": [
    "The above might dramatically change your vocabulary, depending on how many items from your vocab are in the Glove space:"
   ]
  },
  {
   "cell_type": "code",
   "execution_count": 52,
   "metadata": {},
   "outputs": [
    {
     "data": {
      "text/plain": [
       "963"
      ]
     },
     "execution_count": 52,
     "metadata": {},
     "output_type": "execute_result"
    }
   ],
   "source": [
    "len(dev_vocab)"
   ]
  },
  {
   "cell_type": "code",
   "execution_count": 53,
   "metadata": {},
   "outputs": [
    {
     "data": {
      "text/plain": [
       "963"
      ]
     },
     "execution_count": 53,
     "metadata": {},
     "output_type": "execute_result"
    }
   ],
   "source": [
    "len(dev_glove_vocab)"
   ]
  },
  {
   "cell_type": "code",
   "execution_count": 66,
   "metadata": {},
   "outputs": [],
   "source": [
    "dev_mod_glove = ContextualColorDescriber(\n",
    "    dev_glove_vocab, \n",
    "    embedding=dev_glove_embedding,\n",
    "    hidden_dim=10, \n",
    "    max_iter=5, \n",
    "    batch_size=128)"
   ]
  },
  {
   "cell_type": "code",
   "execution_count": 67,
   "metadata": {},
   "outputs": [
    {
     "name": "stderr",
     "output_type": "stream",
     "text": [
      "Epoch 5; err = 120.82809722423553"
     ]
    }
   ],
   "source": [
    "_ = dev_mod_glove.fit(dev_cols_train, dev_seqs_train)"
   ]
  },
  {
   "cell_type": "code",
   "execution_count": 68,
   "metadata": {},
   "outputs": [
    {
     "data": {
      "text/plain": [
       "0.7898070832133602"
      ]
     },
     "execution_count": 68,
     "metadata": {},
     "output_type": "execute_result"
    }
   ],
   "source": [
    "dev_mod_glove.listener_accuracy(dev_cols_test, dev_seqs_test)"
   ]
  },
  {
   "cell_type": "code",
   "execution_count": 61,
   "metadata": {},
   "outputs": [
    {
     "name": "stderr",
     "output_type": "stream",
     "text": [
      "Epoch 5; err = 96.2347082495689435"
     ]
    },
    {
     "name": "stdout",
     "output_type": "stream",
     "text": [
      "Best params: {'hidden_dim': 64, 'max_iter': 5}\n",
      "Best score: 0.821\n"
     ]
    }
   ],
   "source": [
    "dev_mod_glove = ContextualColorDescriber(\n",
    "    dev_glove_vocab, \n",
    "    embedding=dev_glove_embedding,\n",
    "    hidden_dim=10, \n",
    "    max_iter=5, \n",
    "    batch_size=128)\n",
    "\n",
    "best_mod_glove = utils.fit_classifier_with_crossvalidation(\n",
    "    dev_cols_train, \n",
    "    dev_seqs_train, \n",
    "    dev_mod_glove, \n",
    "    cv=2,\n",
    "    scoring=None,\n",
    "    param_grid={'hidden_dim': [10, 20, 64], \"max_iter\": [5, 10]})"
   ]
  },
  {
   "cell_type": "code",
   "execution_count": 62,
   "metadata": {},
   "outputs": [
    {
     "data": {
      "text/plain": [
       "0.800460696803916"
      ]
     },
     "execution_count": 62,
     "metadata": {},
     "output_type": "execute_result"
    }
   ],
   "source": [
    "best_mod_glove.listener_accuracy(dev_cols_test, dev_seqs_test)"
   ]
  },
  {
   "cell_type": "markdown",
   "metadata": {},
   "source": [
    "You probably saw a small boost, assuming your tokeization scheme leads to good overlap with the GloVe vocabulary. The input representations are larger than in our previous model (at least as I configured things), so we would need to do more runs with higher `max_iter` values to see whether this is worthwhile overall."
   ]
  },
  {
   "cell_type": "markdown",
   "metadata": {},
   "source": [
    "## Question 4: Color context [3 points]\n",
    "\n",
    "The final required homework question is the most challenging, but it should set you up to think in much more flexible ways about the underlying model we're using.\n",
    "\n",
    "The question asks you to modify various model components in `torch_color_describer.py`. The section called [Modifying the core model](colors_overview.ipynb#Modifying-the-core-model) from the core unit notebook provides a number of examples illustrating the basic techniques, so you might review that material if you get stuck here.\n",
    "\n",
    "__Your task__: [Monroe et al. 2017](https://transacl.org/ojs/index.php/tacl/article/view/1142) append the target color (the final one in the context) to each input token that gets processed by the decoder. The question asks you to subclass the `Decoder` and `EncoderDecoder` from `torch_color_describer.py` so that you can build models that do this."
   ]
  },
  {
   "cell_type": "markdown",
   "metadata": {},
   "source": [
    "__Step 1__: Modify the `Decoder` so that the input vector to the model at each timestep is not just a token representaton `x` but the concatenation of `x` with the representation of the target color.\n",
    "\n",
    "__Notes__:\n",
    "\n",
    "* You might notice at this point that the original `Decoder.forward` method has an optional keyword argument `target_colors` that is passed to `Decoder.get_embeddings`. Because this is already in place, all you have to do is modify the `get_embeddings` method to use this argument.\n",
    "\n",
    "* The change affects the configuration of `self.rnn`, so you need to subclass the `__init__` method as well, so that its `input_size` argument accomodates the embedding as well as the color representations.\n",
    "\n",
    "* You can do the relevant operations efficiently in pure PyTorch using `repeat_interleave` and `cat`, but the important thing is to get a working implementation – you can always optimize the code later if the ideas prove useful to you. \n",
    "\n",
    "Here's skeleton code for you to flesh out:"
   ]
  },
  {
   "cell_type": "code",
   "execution_count": 69,
   "metadata": {},
   "outputs": [],
   "source": [
    "import torch\n",
    "import torch.nn as nn\n",
    "from torch_color_describer import Decoder\n",
    "\n",
    "class ColorContextDecoder(Decoder):    \n",
    "    def __init__(self, color_dim, *args, **kwargs):\n",
    "        self.color_dim = color_dim\n",
    "        super().__init__(*args, **kwargs)\n",
    "        \n",
    "        # Fix the `self.rnn` attribute:\n",
    "        ##### YOUR CODE HERE\n",
    "\n",
    "        self.rnn = nn.GRU(\n",
    "            input_size=self.embed_dim + self.color_dim,\n",
    "            hidden_size=self.hidden_dim,\n",
    "            batch_first=True)\n",
    "        \n",
    "\n",
    "    def get_embeddings(self, word_seqs, target_colors=None):  \n",
    "        \"\"\"You can assume that `target_colors` is a tensor of shape \n",
    "        (m, n), where m is the length of the batch (same as \n",
    "        `word_seqs.shape[0]`) and n is the dimensionality of the \n",
    "        color representations the model is using. The goal is\n",
    "        to attached each color vector i to each of the tokens in\n",
    "        the ith sequence of (the embedded version of) `word_seqs`.\n",
    "        \n",
    "        \"\"\"        \n",
    "        ##### YOUR CODE HERE\n",
    "        \n",
    "        word_emb = self.embedding(word_seqs)\n",
    "        tc = target_colors.unsqueeze(1)\n",
    "        tc = torch.repeat_interleave(tc, repeats=word_emb.shape[1], dim=1)\n",
    "        word_emb_combined = torch.cat((word_emb, tc), 2)\n",
    "        return word_emb_combined\n",
    "\n"
   ]
  },
  {
   "cell_type": "markdown",
   "metadata": {},
   "source": [
    "__Step 2__: Modify the `EncoderDecoder`. For this, you just need to make a small change to the `forward` method: extract the target colors from `color_seqs` and feed them to the decoder."
   ]
  },
  {
   "cell_type": "code",
   "execution_count": 70,
   "metadata": {},
   "outputs": [],
   "source": [
    "from torch_color_describer import EncoderDecoder\n",
    "\n",
    "class ColorizedEncoderDecoder(EncoderDecoder):\n",
    "    \n",
    "    def forward(self, \n",
    "            color_seqs, \n",
    "            word_seqs, \n",
    "            seq_lengths=None, \n",
    "            hidden=None, \n",
    "            targets=None):\n",
    "        if hidden is None:\n",
    "            hidden = self.encoder(color_seqs)\n",
    "            \n",
    "        # Extract the target colors from `color_seqs` and \n",
    "        # feed them to the decoder, which already has a\n",
    "        # `target_colors` keyword.        \n",
    "        ##### YOUR CODE HERE\n",
    "        target_colors = color_seqs[:, -1, :]\n",
    "        output, hidden = self.decoder(word_seqs, seq_lengths=seq_lengths, hidden=hidden, target_colors=target_colors)\n",
    "        \n",
    "        return output, hidden, targets"
   ]
  },
  {
   "cell_type": "markdown",
   "metadata": {},
   "source": [
    "__Step 3__: Finally, as in the examples in [Modifying the core model](colors_overview.ipynb#Modifying-the-core-model), you need to modify the `build_graph` method of `ContextualColorDescriber` so that it uses your new `ColorContextDecoder` and `ColorizedEncoderDecoder`. Here's starter code:"
   ]
  },
  {
   "cell_type": "code",
   "execution_count": 71,
   "metadata": {},
   "outputs": [],
   "source": [
    "from torch_color_describer import Encoder\n",
    "\n",
    "class ColorizedInputDescriber(ContextualColorDescriber):\n",
    "        \n",
    "    def build_graph(self):\n",
    "        \n",
    "        # We didn't modify the encoder, so this is\n",
    "        # just copied over from the original:\n",
    "        encoder = Encoder(\n",
    "            color_dim=self.color_dim,\n",
    "            hidden_dim=self.hidden_dim)\n",
    "\n",
    "        # Use your `ColorContextDecoder`, making sure\n",
    "        # to pass in all the keyword arguments coming\n",
    "        # from `ColorizedInputDescriber`:\n",
    "        \n",
    "        ##### YOUR CODE HERE\n",
    "        decoder = ColorContextDecoder(\n",
    "            color_dim=self.color_dim,\n",
    "            vocab_size=self.vocab_size,\n",
    "            embed_dim=self.embed_dim,\n",
    "            embedding=self.embedding,\n",
    "            hidden_dim=self.hidden_dim)\n",
    "\n",
    "        \n",
    "        # Return a `ColorizedEncoderDecoder` that uses\n",
    "        # your encoder and decoder:\n",
    "        \n",
    "        ##### YOUR CODE HERE\n",
    "\n",
    "        return ColorizedEncoderDecoder(encoder, decoder)\n"
   ]
  },
  {
   "cell_type": "markdown",
   "metadata": {},
   "source": [
    "That's it! Since these modifications are pretty intricate, you might want to use [a toy dataset](colors_overview.ipynb#Toy-problems-for-development-work) to debug it:"
   ]
  },
  {
   "cell_type": "code",
   "execution_count": 72,
   "metadata": {},
   "outputs": [],
   "source": [
    "toy_color_seqs, toy_word_seqs, toy_vocab = create_example_dataset(\n",
    "    group_size=50, vec_dim=2)"
   ]
  },
  {
   "cell_type": "code",
   "execution_count": 73,
   "metadata": {},
   "outputs": [],
   "source": [
    "toy_color_seqs_train, toy_color_seqs_test, toy_word_seqs_train, toy_word_seqs_test = \\\n",
    "    train_test_split(toy_color_seqs, toy_word_seqs)"
   ]
  },
  {
   "cell_type": "code",
   "execution_count": 74,
   "metadata": {},
   "outputs": [],
   "source": [
    "toy_mod = ColorizedInputDescriber(\n",
    "    toy_vocab, \n",
    "    embed_dim=10, \n",
    "    hidden_dim=10, \n",
    "    max_iter=100, \n",
    "    batch_size=128)"
   ]
  },
  {
   "cell_type": "code",
   "execution_count": 75,
   "metadata": {},
   "outputs": [
    {
     "name": "stderr",
     "output_type": "stream",
     "text": [
      "Epoch 100; err = 0.15312781929969788"
     ]
    }
   ],
   "source": [
    "_ = toy_mod.fit(toy_color_seqs_train, toy_word_seqs_train)"
   ]
  },
  {
   "cell_type": "code",
   "execution_count": 76,
   "metadata": {},
   "outputs": [
    {
     "data": {
      "text/plain": [
       "1.0"
      ]
     },
     "execution_count": 76,
     "metadata": {},
     "output_type": "execute_result"
    }
   ],
   "source": [
    "toy_mod.listener_accuracy(toy_color_seqs_test, toy_word_seqs_test)"
   ]
  },
  {
   "cell_type": "markdown",
   "metadata": {},
   "source": [
    "If that worked, then you can now try this model on SCC problems!"
   ]
  },
  {
   "cell_type": "code",
   "execution_count": 80,
   "metadata": {},
   "outputs": [],
   "source": [
    "dev_mod_colorized = ColorizedInputDescriber(\n",
    "    dev_glove_vocab, \n",
    "    embedding=dev_glove_embedding,\n",
    "    hidden_dim=10, \n",
    "    max_iter=5, \n",
    "    batch_size=128)"
   ]
  },
  {
   "cell_type": "code",
   "execution_count": 81,
   "metadata": {},
   "outputs": [
    {
     "name": "stderr",
     "output_type": "stream",
     "text": [
      "Epoch 5; err = 121.03712475299835"
     ]
    }
   ],
   "source": [
    "_ = dev_mod_colorized.fit(dev_cols_train, dev_seqs_train)"
   ]
  },
  {
   "cell_type": "code",
   "execution_count": 82,
   "metadata": {},
   "outputs": [
    {
     "data": {
      "text/plain": [
       "0.8767636049524906"
      ]
     },
     "execution_count": 82,
     "metadata": {},
     "output_type": "execute_result"
    }
   ],
   "source": [
    "dev_mod_colorized.listener_accuracy(dev_cols_test, dev_seqs_test)"
   ]
  },
  {
   "cell_type": "code",
   "execution_count": 84,
   "metadata": {},
   "outputs": [
    {
     "name": "stderr",
     "output_type": "stream",
     "text": [
      "Epoch 5; err = 115.913144707679755"
     ]
    },
    {
     "name": "stdout",
     "output_type": "stream",
     "text": [
      "Best params: {'hidden_dim': 10, 'max_iter': 5}\n",
      "Best score: 0.898\n"
     ]
    }
   ],
   "source": [
    "dev_mod_colorized = ColorizedInputDescriber(\n",
    "    dev_glove_vocab, \n",
    "    embedding=dev_glove_embedding,\n",
    "    hidden_dim=10, \n",
    "    max_iter=5, \n",
    "    batch_size=128)\n",
    "\n",
    "best_mod_colorized = utils.fit_classifier_with_crossvalidation(\n",
    "    dev_cols_train, \n",
    "    dev_seqs_train, \n",
    "    dev_mod_colorized, \n",
    "    cv=2,\n",
    "    scoring=None,\n",
    "    param_grid={'hidden_dim': [10, 20, 64], 'max_iter': [5, 10]})"
   ]
  },
  {
   "cell_type": "code",
   "execution_count": 85,
   "metadata": {},
   "outputs": [
    {
     "data": {
      "text/plain": [
       "0.8738842499280162"
      ]
     },
     "execution_count": 85,
     "metadata": {},
     "output_type": "execute_result"
    }
   ],
   "source": [
    "best_mod_colorized.listener_accuracy(dev_cols_test, dev_seqs_test)"
   ]
  },
  {
   "cell_type": "markdown",
   "metadata": {},
   "source": [
    "## Your original system [3 points]"
   ]
  },
  {
   "cell_type": "markdown",
   "metadata": {},
   "source": [
    "There are many options for your original system, which consists of the full pipeline – all preprocessing and modeling steps. You are free to use any model you like, as long as you subclass `ContextualColorDescriber` in a way that allows its `listener_accuracy` method to behave in the expected way.\n",
    "\n",
    "So that we can evaluate models in a uniform way for the bake-off, we ask that you modify the function `my_original_system` below so that it accepts a trained instance of your model and does any preprocessing steps required by your model.\n",
    "\n",
    "If we seek to reproduce your results, we will rerun this entire notebook. Thus, it is fine if your `my_original_system` makes use of functions you wrote or modified above this cell."
   ]
  },
  {
   "cell_type": "code",
   "execution_count": 86,
   "metadata": {},
   "outputs": [],
   "source": [
    "def my_original_system(trained_model, color_seqs_test, texts_test): \n",
    "    \"\"\"Feel free to modify this code to accommodate the needs of\n",
    "    your system. Just keep in mind that it will get raw corpus\n",
    "    examples as inputs for the bake-off.\n",
    "    \n",
    "    \"\"\"    \n",
    "    # `word_seqs_test` is a list of strings, so tokenize each of\n",
    "    # its elements:    \n",
    "    tok_seqs = [tokenize_example(s) for s in texts_test]\n",
    "    \n",
    "    col_seqs = [represent_color_context(colors) \n",
    "                for colors in color_seqs_test]\n",
    "\n",
    "    # Return the `listener_accuracy` for your model:\n",
    "    return trained_model.listener_accuracy(col_seqs, tok_seqs)"
   ]
  },
  {
   "cell_type": "markdown",
   "metadata": {},
   "source": [
    "If `my_original_system` works on test sets you create from the corpus distribution, then it will works for the bake-off, so consider checking that. For example, this would check that `dev_mod` above passes muster:"
   ]
  },
  {
   "cell_type": "code",
   "execution_count": 162,
   "metadata": {},
   "outputs": [
    {
     "data": {
      "text/plain": [
       "0.7975813417794414"
      ]
     },
     "execution_count": 162,
     "metadata": {},
     "output_type": "execute_result"
    }
   ],
   "source": [
    "my_original_system(dev_mod, dev_rawcols_test, dev_texts_test)"
   ]
  },
  {
   "cell_type": "markdown",
   "metadata": {},
   "source": [
    "In the cell below, please provide a brief technical description of your original system, so that the teaching team can gain an understanding of what it does. This will help us to understand your code and analyze all the submissions to identify patterns and strategies."
   ]
  },
  {
   "cell_type": "markdown",
   "metadata": {},
   "source": [
    "# Enter your system description in this cell.\n",
    "\n",
    "The different components of the original system is  described below:\n",
    "\n",
    "1. **Tokenizer**: We use a pretrained BERT tokenizer to tokenize the input. We have also tried NLTK's treebank tokenizer and found the BERT tokenizer to be better. We also used a BERT WordPiece tokenizer trained on the train set but it performed comparable or less than the pretrained tokenizer and hence we finally settles on that. The subword tokenizer are expected to perform better as the input text is conversation-like and hence filled with spelling errors, letter repetitions, etc.\n",
    "2. **Word embeddings**: We use 50-dim glove vectors for our embeddings. Though due to the use of subword tokenization, there will be lot of words not in the vocabulary of the Glove, but we expect to find the frequent words in the vocabulary and only the word-endings, comparative/superlative modiffier wont be in vocab which we can assign randomly. We could have also used some pretrained BPE embeddings but did not experiment with it.\n",
    "3. **Color Representation**: For indivdual color representation, we use the 54-dim representation of the HSV values using FFT following the method described in Monroe et al. For representing the sequence of colors, we subtract the target color from the distractors before calculating the HSV. We believe that this is helpful for the model because the description of the target depends on how close or far the distractors are rathet than what color the distractor is.\n",
    "4. **Encoder**: We experimented with different encoders:\n",
    "    i. Bidirectional RNN encoder: The encoder generates a concatenated representation of the target color from both directions.\n",
    "    ii. Fully Connetced Encoder: The encoder generates a linear transformation of the concatenated colors representations.\n",
    "    iii. Convolution Encoder: The encoder applies a 1-d convolution with kernel size of 3 and no padding to generate a representation to be fed to the decoder.\n",
    "    We find through the experiments below that the bidirectional encoder does not perform better than the forward RNN ecnoder used above. The fully connected encoder and convolution encoder is comparable in function and performance and performs best of the task. The FC Encoder achieves a score of 95.85% on the dev set (with <= 2 words).\n",
    "5. **Decoder**: We find from the Q4 that the colorized decoder performs much better than the non-colorized one and hence we use the same for all the different encoders.\n",
    "6. **Hidden Dimensiom**: Based on the cross validation results in the questions of the HW above, we used the hidden dimensions of 10 for the different models below (we also cross validated the results and found the hidden size of 10 to work the best) and found that the system with FC Encoder and Conv Encoder words eqaully better.\n",
    "7. **Train epochs**: We trained all models for 5 epochs (we also tried training for 10 epochs but found that training for 5 epochs was better in most cases)\n",
    "\n",
    "Hence, in summary the components of the best original system is a model with Fully Connetced Encoder/Conv Encoder and hidden dimension of 10 and trained for 5 epochs. We report all scores below for the Conv encoder with 10 hidden units trained for 5 epochs. The results of other configurations can be found in the notebook's output.\n",
    "\n",
    "The peak score on the dev test set was 93.72 and on the full dataset was 96.96\n",
    "We report the score on the full dataset below.\n",
    "\n",
    "My peak score was: 0.9696\n"
   ]
  },
  {
   "cell_type": "code",
   "execution_count": 94,
   "metadata": {},
   "outputs": [],
   "source": [
    "from torch_color_describer import Encoder, Decoder\n",
    "class BiDirEncoder(Encoder):\n",
    "    \"\"\"Simple Encoder model based on a GRU cell.\n",
    "\n",
    "    Parameters\n",
    "    ----------\n",
    "    color_dim : int\n",
    "    hidden_dim : int\n",
    "\n",
    "    \"\"\"\n",
    "    def __init__(self, *args, **kwargs):\n",
    "        super(BiDirEncoder, self).__init__(*args, **kwargs)\n",
    "        self.rnn = nn.GRU(\n",
    "            input_size=self.color_dim,\n",
    "            hidden_size=self.hidden_dim,\n",
    "            bidirectional=True, \n",
    "            batch_first=True)\n",
    "\n",
    "    def forward(self, color_seqs):\n",
    "        output, hidden = self.rnn(color_seqs)\n",
    "        fwd_hidden = hidden[0:hidden.size(0):2]\n",
    "        bwd_hidden = hidden[1:hidden.size(0):2]\n",
    "        result= torch.cat([fwd_hidden, bwd_hidden], dim=2)\n",
    "        return result\n",
    "    \n",
    "from torch_color_describer import EncoderDecoder\n",
    "\n",
    "class BidirColorizedColorDescriber(ContextualColorDescriber): \n",
    "                \n",
    "    def build_graph(self):\n",
    "        encoder = BiDirEncoder(\n",
    "            color_dim=self.color_dim,\n",
    "            hidden_dim=self.hidden_dim) \n",
    "\n",
    "        decoder = ColorContextDecoder(\n",
    "            color_dim=self.color_dim,\n",
    "            vocab_size=self.vocab_size,\n",
    "            embed_dim=self.embed_dim,\n",
    "            embedding=self.embedding,\n",
    "            hidden_dim=self.hidden_dim*2) \n",
    "\n",
    "        return ColorizedEncoderDecoder(encoder, decoder)"
   ]
  },
  {
   "cell_type": "code",
   "execution_count": 111,
   "metadata": {},
   "outputs": [
    {
     "name": "stderr",
     "output_type": "stream",
     "text": [
      "Epoch 5; err = 107.42708611488342"
     ]
    },
    {
     "data": {
      "text/plain": [
       "0.8491217967175353"
      ]
     },
     "execution_count": 111,
     "metadata": {},
     "output_type": "execute_result"
    }
   ],
   "source": [
    "dev_mod_bidir = BidirColorizedColorDescriber(\n",
    "    dev_glove_vocab, \n",
    "    embedding=dev_glove_embedding,\n",
    "    hidden_dim=10, \n",
    "    max_iter=5, \n",
    "    batch_size=128)\n",
    "_ = dev_mod_bidir.fit(dev_cols_train, dev_seqs_train)\n",
    "dev_mod_bidir.listener_accuracy(dev_cols_test, dev_seqs_test)"
   ]
  },
  {
   "cell_type": "code",
   "execution_count": 117,
   "metadata": {},
   "outputs": [],
   "source": [
    "# FC encoder\n",
    "import torch.nn.functional as F\n",
    "class FCEncoder(Encoder):\n",
    "    \"\"\"Simple Encoder model based on a GRU cell.\n",
    "\n",
    "    Parameters\n",
    "    ----------\n",
    "    color_dim : int\n",
    "    hidden_dim : int\n",
    "\n",
    "    \"\"\"\n",
    "    def __init__(self, *args, **kwargs):\n",
    "        super().__init__(*args, **kwargs)\n",
    "        self.fc = nn.Linear(self.color_dim*3, self.hidden_dim)\n",
    "\n",
    "    def forward(self, color_seqs):\n",
    "        n = color_seqs.size(0)\n",
    "        h = self.fc(color_seqs.view(n, -1))\n",
    "        return h.unsqueeze(dim=0)\n",
    "    \n",
    "    \n",
    "class FCColorDescriber(ContextualColorDescriber): \n",
    "                \n",
    "    def build_graph(self):\n",
    "        encoder = FCEncoder(\n",
    "            color_dim=self.color_dim,\n",
    "            hidden_dim=self.hidden_dim) \n",
    "\n",
    "        decoder = ColorContextDecoder(\n",
    "            color_dim=self.color_dim,\n",
    "            vocab_size=self.vocab_size,\n",
    "            embed_dim=self.embed_dim,\n",
    "            embedding=self.embedding,\n",
    "            hidden_dim=self.hidden_dim)\n",
    "        return ColorizedEncoderDecoder(encoder, decoder)"
   ]
  },
  {
   "cell_type": "code",
   "execution_count": 151,
   "metadata": {},
   "outputs": [
    {
     "name": "stderr",
     "output_type": "stream",
     "text": [
      "Epoch 5; err = 115.85484743118286"
     ]
    },
    {
     "data": {
      "text/plain": [
       "0.9260005758710049"
      ]
     },
     "execution_count": 151,
     "metadata": {},
     "output_type": "execute_result"
    }
   ],
   "source": [
    "dev_mod_fc = FCColorDescriber(\n",
    "    dev_glove_vocab, \n",
    "    embedding=dev_glove_embedding,\n",
    "    hidden_dim=10, \n",
    "    max_iter=5, \n",
    "    batch_size=128)\n",
    "_ = dev_mod_fc.fit(dev_cols_train, dev_seqs_train)\n",
    "dev_mod_fc.listener_accuracy(dev_cols_test, dev_seqs_test)"
   ]
  },
  {
   "cell_type": "code",
   "execution_count": 128,
   "metadata": {},
   "outputs": [],
   "source": [
    "# Conv encoder\n",
    "import torch.nn.functional as F\n",
    "class ConvEncoder(Encoder):\n",
    "    \"\"\"Simple Encoder model based on a GRU cell.\n",
    "\n",
    "    Parameters\n",
    "    ----------\n",
    "    color_dim : int\n",
    "    hidden_dim : int\n",
    "\n",
    "    \"\"\"\n",
    "    def __init__(self, *args, padding=0, **kwargs):\n",
    "        super().__init__(*args, **kwargs)\n",
    "        self.padding = padding\n",
    "        self.conv1 = nn.Conv1d(self.color_dim, self.hidden_dim, kernel_size=3, padding=self.padding)\n",
    "\n",
    "    def forward(self, color_seqs):\n",
    "        h = self.conv1(color_seqs.permute(0, 2, 1))\n",
    "        hidden, _ = torch.max(h, dim=-1)\n",
    "        return hidden.unsqueeze(dim=0)\n",
    "    \n",
    "    \n",
    "class ConvColorDescriber(ContextualColorDescriber): \n",
    "    def __init__(self, *args, padding=0, **kwargs):\n",
    "        self.padding = padding\n",
    "        super().__init__(*args, **kwargs)\n",
    "        \n",
    "                \n",
    "    def build_graph(self):\n",
    "        encoder = ConvEncoder(\n",
    "            color_dim=self.color_dim,\n",
    "            hidden_dim=self.hidden_dim,\n",
    "            padding=self.padding\n",
    "        ) \n",
    "\n",
    "        decoder = ColorContextDecoder(\n",
    "            color_dim=self.color_dim,\n",
    "            vocab_size=self.vocab_size,\n",
    "            embed_dim=self.embed_dim,\n",
    "            embedding=self.embedding,\n",
    "            hidden_dim=self.hidden_dim)\n",
    "        return ColorizedEncoderDecoder(encoder, decoder)"
   ]
  },
  {
   "cell_type": "code",
   "execution_count": 159,
   "metadata": {},
   "outputs": [
    {
     "name": "stderr",
     "output_type": "stream",
     "text": [
      "Epoch 5; err = 114.16141903400421"
     ]
    },
    {
     "data": {
      "text/plain": [
       "0.9372300604664555"
      ]
     },
     "execution_count": 159,
     "metadata": {},
     "output_type": "execute_result"
    }
   ],
   "source": [
    "dev_mod_conv = ConvColorDescriber(\n",
    "    dev_glove_vocab, \n",
    "    embedding=dev_glove_embedding,\n",
    "    hidden_dim=10, \n",
    "    max_iter=5, \n",
    "    batch_size=128)\n",
    "_ = dev_mod_conv.fit(dev_cols_train, dev_seqs_train)\n",
    "dev_mod_conv.listener_accuracy(dev_cols_test, dev_seqs_test)"
   ]
  },
  {
   "cell_type": "code",
   "execution_count": 160,
   "metadata": {},
   "outputs": [],
   "source": [
    "best_model_dev = dev_mod_conv"
   ]
  },
  {
   "cell_type": "code",
   "execution_count": 146,
   "metadata": {},
   "outputs": [],
   "source": [
    "corpus = ColorsCorpusReader(\n",
    "    COLORS_SRC_FILENAME, \n",
    "    word_count=None, \n",
    "    normalize_colors=True)\n",
    "\n",
    "examples = list(corpus.read())\n",
    "\n",
    "rawcols, texts = zip(*[[ex.colors, ex.contents] for ex in examples])\n",
    "\n",
    "rawcols_train, rawcols_test, texts_train, texts_test = train_test_split(rawcols, texts)\n",
    "\n",
    "seqs_train = [tokenize_example(s) for s in texts_train]\n",
    "\n",
    "seqs_test = [tokenize_example(s) for s in texts_test]\n",
    "\n",
    "vocab = sorted({w for toks in seqs_train for w in toks}) + [UNK_SYMBOL]\n",
    "\n",
    "\n",
    "cols_train = [represent_color_context(colors) for colors in rawcols_train]\n",
    "\n",
    "cols_test = [represent_color_context(colors) for colors in rawcols_test]\n",
    "\n",
    "glove_embedding, glove_vocab = create_glove_embedding(vocab)"
   ]
  },
  {
   "cell_type": "code",
   "execution_count": 147,
   "metadata": {
    "scrolled": false
   },
   "outputs": [
    {
     "name": "stderr",
     "output_type": "stream",
     "text": [
      "Epoch 5; err = 171.06927654147148"
     ]
    },
    {
     "name": "stdout",
     "output_type": "stream",
     "text": [
      "('FCColorDescriber', 5, 0, 0.9312281896331602)\n"
     ]
    },
    {
     "name": "stderr",
     "output_type": "stream",
     "text": [
      "Epoch 5; err = 176.04462772607803"
     ]
    },
    {
     "name": "stdout",
     "output_type": "stream",
     "text": [
      "('FCColorDescriber', 5, 1, 0.963316026895906)\n"
     ]
    },
    {
     "name": "stderr",
     "output_type": "stream",
     "text": [
      "Epoch 5; err = 175.79422226548195"
     ]
    },
    {
     "name": "stdout",
     "output_type": "stream",
     "text": [
      "('FCColorDescriber', 5, 2, 0.9170993276023491)\n"
     ]
    },
    {
     "name": "stderr",
     "output_type": "stream",
     "text": [
      "Epoch 5; err = 155.99905088543892"
     ]
    },
    {
     "name": "stdout",
     "output_type": "stream",
     "text": [
      "('FCColorDescriber', 10, 0, 0.952421482679377)\n"
     ]
    },
    {
     "name": "stderr",
     "output_type": "stream",
     "text": [
      "Epoch 5; err = 153.29449370503426"
     ]
    },
    {
     "name": "stdout",
     "output_type": "stream",
     "text": [
      "('FCColorDescriber', 10, 1, 0.9519108009192272)\n"
     ]
    },
    {
     "name": "stderr",
     "output_type": "stream",
     "text": [
      "Epoch 5; err = 154.91890376806262"
     ]
    },
    {
     "name": "stdout",
     "output_type": "stream",
     "text": [
      "('FCColorDescriber', 10, 2, 0.9485913694782535)\n"
     ]
    },
    {
     "name": "stderr",
     "output_type": "stream",
     "text": [
      "Epoch 5; err = 172.19105371832848"
     ]
    },
    {
     "name": "stdout",
     "output_type": "stream",
     "text": [
      "('ConvColorDescriber', 5, 0, 0.9306323942463188)\n"
     ]
    },
    {
     "name": "stderr",
     "output_type": "stream",
     "text": [
      "Epoch 5; err = 171.31798622012138"
     ]
    },
    {
     "name": "stdout",
     "output_type": "stream",
     "text": [
      "('ConvColorDescriber', 5, 1, 0.9453570516639714)\n"
     ]
    },
    {
     "name": "stderr",
     "output_type": "stream",
     "text": [
      "Epoch 5; err = 168.23815286159515"
     ]
    },
    {
     "name": "stdout",
     "output_type": "stream",
     "text": [
      "('ConvColorDescriber', 5, 2, 0.9581240956677164)\n"
     ]
    },
    {
     "name": "stderr",
     "output_type": "stream",
     "text": [
      "Epoch 5; err = 156.98187071084976"
     ]
    },
    {
     "name": "stdout",
     "output_type": "stream",
     "text": [
      "('ConvColorDescriber', 10, 0, 0.9696995488977785)\n"
     ]
    },
    {
     "name": "stderr",
     "output_type": "stream",
     "text": [
      "Epoch 5; err = 156.29739120602608"
     ]
    },
    {
     "name": "stdout",
     "output_type": "stream",
     "text": [
      "('ConvColorDescriber', 10, 1, 0.9674014809771044)\n"
     ]
    },
    {
     "name": "stderr",
     "output_type": "stream",
     "text": [
      "Epoch 5; err = 155.60640209913254"
     ]
    },
    {
     "name": "stdout",
     "output_type": "stream",
     "text": [
      "('ConvColorDescriber', 10, 2, 0.9291854625925611)\n"
     ]
    },
    {
     "name": "stderr",
     "output_type": "stream",
     "text": [
      "Epoch 5; err = 177.65792852640152"
     ]
    },
    {
     "name": "stdout",
     "output_type": "stream",
     "text": [
      "('ColorizedInputDescriber', 5, 0, 0.894629330155758)\n"
     ]
    },
    {
     "name": "stderr",
     "output_type": "stream",
     "text": [
      "Epoch 5; err = 172.98517459630966"
     ]
    },
    {
     "name": "stdout",
     "output_type": "stream",
     "text": [
      "('ColorizedInputDescriber', 5, 1, 0.9296961443527109)\n"
     ]
    },
    {
     "name": "stderr",
     "output_type": "stream",
     "text": [
      "Epoch 5; err = 176.87426026165485"
     ]
    },
    {
     "name": "stdout",
     "output_type": "stream",
     "text": [
      "('ColorizedInputDescriber', 5, 2, 0.8278151332028257)\n"
     ]
    },
    {
     "name": "stderr",
     "output_type": "stream",
     "text": [
      "Epoch 5; err = 153.88575804233553"
     ]
    },
    {
     "name": "stdout",
     "output_type": "stream",
     "text": [
      "('ColorizedInputDescriber', 10, 0, 0.9052685334922121)\n"
     ]
    },
    {
     "name": "stderr",
     "output_type": "stream",
     "text": [
      "Epoch 5; err = 157.07487878203392"
     ]
    },
    {
     "name": "stdout",
     "output_type": "stream",
     "text": [
      "('ColorizedInputDescriber', 10, 1, 0.8890118307941102)\n"
     ]
    },
    {
     "name": "stderr",
     "output_type": "stream",
     "text": [
      "Epoch 5; err = 151.92403364181519"
     ]
    },
    {
     "name": "stdout",
     "output_type": "stream",
     "text": [
      "('ColorizedInputDescriber', 10, 2, 0.945442165290663)\n"
     ]
    }
   ],
   "source": [
    "models = {}\n",
    "    \n",
    "for model_class in [FCColorDescriber, ConvColorDescriber, ColorizedInputDescriber]: \n",
    "    for hidden_dim in [5, 10]:\n",
    "        for i in range(3):\n",
    "            model = model_class(\n",
    "                        glove_vocab, \n",
    "                        embedding=glove_embedding,\n",
    "                        hidden_dim=hidden_dim, \n",
    "                        max_iter=5, \n",
    "                        batch_size=128)\n",
    "            _ = model.fit(cols_train, seqs_train)\n",
    "            acc = model.listener_accuracy(cols_test, seqs_test)\n",
    "            key = (model_class.__name__, hidden_dim, i, acc)\n",
    "            print(key)\n",
    "            models[key] = model"
   ]
  },
  {
   "cell_type": "code",
   "execution_count": 156,
   "metadata": {},
   "outputs": [],
   "source": [
    "best_model = models[('ConvColorDescriber', 10, 0, 0.9696995488977785)]"
   ]
  },
  {
   "cell_type": "code",
   "execution_count": 161,
   "metadata": {},
   "outputs": [
    {
     "data": {
      "text/plain": [
       "0.9372300604664555"
      ]
     },
     "execution_count": 161,
     "metadata": {},
     "output_type": "execute_result"
    }
   ],
   "source": [
    "my_original_system(best_model_dev, dev_rawcols_test, dev_texts_test)"
   ]
  },
  {
   "cell_type": "code",
   "execution_count": 158,
   "metadata": {},
   "outputs": [
    {
     "data": {
      "text/plain": [
       "0.9696995488977785"
      ]
     },
     "execution_count": 158,
     "metadata": {},
     "output_type": "execute_result"
    }
   ],
   "source": [
    "my_original_system(best_model, rawcols_test, texts_test)"
   ]
  },
  {
   "cell_type": "code",
   "execution_count": null,
   "metadata": {},
   "outputs": [],
   "source": [
    "# Please do not remove this comment."
   ]
  },
  {
   "cell_type": "code",
   "execution_count": 165,
   "metadata": {},
   "outputs": [
    {
     "name": "stderr",
     "output_type": "stream",
     "text": [
      "Epoch 5; err = 202.32969163358212"
     ]
    }
   ],
   "source": [
    "# train a model on whole data for bakeoff\n",
    "model = ConvColorDescriber(\n",
    "        glove_vocab, \n",
    "        embedding=glove_embedding,\n",
    "        hidden_dim=10, \n",
    "        max_iter=5, \n",
    "        batch_size=128)\n",
    "_ = model.fit([represent_color_context(colors) for colors in rawcols], [tokenize_example(s) for s in texts])"
   ]
  },
  {
   "cell_type": "markdown",
   "metadata": {},
   "source": [
    "## Bakeoff [1 point]"
   ]
  },
  {
   "cell_type": "markdown",
   "metadata": {},
   "source": [
    "For the bake-off, we will release a test set. The announcement will go out on the discussion forum. You will evaluate your custom model from the previous question on these new datasets using your `my_original_system` function. Rules:\n",
    "\n",
    "1. Only one evaluation is permitted.\n",
    "1. No additional system tuning is permitted once the bake-off has started.\n",
    "\n",
    "The cells below this one constitute your bake-off entry.\n",
    "\n",
    "People who enter will receive the additional homework point, and people whose systems achieve the top score will receive an additional 0.5 points. We will test the top-performing systems ourselves, and only systems for which we can reproduce the reported results will win the extra 0.5 points.\n",
    "\n",
    "Late entries will be accepted, but they cannot earn the extra 0.5 points. Similarly, you cannot win the bake-off unless your homework is submitted on time.\n",
    "\n",
    "The announcement will include the details on where to submit your entry."
   ]
  },
  {
   "cell_type": "code",
   "execution_count": 166,
   "metadata": {},
   "outputs": [
    {
     "data": {
      "text/plain": [
       "0.9940915805022157"
      ]
     },
     "execution_count": 166,
     "metadata": {},
     "output_type": "execute_result"
    }
   ],
   "source": [
    "# Enter your bake-off assessment code in this cell.\n",
    "# Please do not remove this comment.\n",
    "\n",
    "COLORS_BAKEOFF_SRC_FILENAME = os.path.join(\n",
    "    \"data\", \"colors\", \"cs224u-colors-bakeoff-data.csv\")\n",
    "\n",
    "bakeoff_corpus = ColorsCorpusReader(COLORS_BAKEOFF_SRC_FILENAME)\n",
    "\n",
    "# This code just extracts the colors and texts from the new corpus:\n",
    "bakeoff_rawcols, bakeoff_texts = zip(*[\n",
    "    [ex.colors, ex.contents] for ex in bakeoff_corpus.read()])\n",
    "\n",
    "# Original system function call; `my_mod` is your ***trained*** model:\n",
    "my_original_system(model, bakeoff_rawcols, bakeoff_texts)\n",
    "\n"
   ]
  },
  {
   "cell_type": "code",
   "execution_count": 167,
   "metadata": {},
   "outputs": [
    {
     "data": {
      "text/plain": [
       "0.9940915805022157"
      ]
     },
     "execution_count": 167,
     "metadata": {},
     "output_type": "execute_result"
    }
   ],
   "source": [
    "# On an otherwise blank line in this cell, please enter\n",
    "# your listener_accuracy score as reported by the code\n",
    "# above. Please enter only a number between 0 and 1 inclusive. \n",
    "# Please do not remove this comment.\n",
    "0.9940915805022157"
   ]
  },
  {
   "cell_type": "code",
   "execution_count": null,
   "metadata": {},
   "outputs": [],
   "source": []
  }
 ],
 "metadata": {
  "kernelspec": {
   "display_name": "cs224u-venev",
   "language": "python",
   "name": "cs224u-venev"
  },
  "language_info": {
   "codemirror_mode": {
    "name": "ipython",
    "version": 3
   },
   "file_extension": ".py",
   "mimetype": "text/x-python",
   "name": "python",
   "nbconvert_exporter": "python",
   "pygments_lexer": "ipython3",
   "version": "3.6.9"
  }
 },
 "nbformat": 4,
 "nbformat_minor": 2
}
